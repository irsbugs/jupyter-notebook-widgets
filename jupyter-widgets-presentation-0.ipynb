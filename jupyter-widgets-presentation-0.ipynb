{
 "cells": [
  {
   "cell_type": "markdown",
   "metadata": {},
   "source": [
    "# Jupyter Notebook Widgets Presentation - 0\n",
    "\n",
    "**jupyter-widgets-presentation-0.ipynb** is the introductory presentation for the widgets that are included with jupyter notebook.\n",
    "\n",
    "This presentation is based around using the ipywidgets module version 7.5.1 which was the current stable version as of October 2019. \n",
    "\n",
    "The development for **ipywidgets: Interactive HTML Widgets** is located in the repository: https://github.com/jupyter-widgets/ipywidgets\n",
    "\n",
    "Most of the source code for the widgets is in the subfolder:\n",
    "https://github.com/jupyter-widgets/ipywidgets/tree/master/ipywidgets/widgets/\n",
    "\n",
    "Included in this subfolder is `__init__.py` file that is responsible for importing over 60 classes from over 20 modules.\n",
    "\n",
    "In the cells below this `__init__.py` file is dynamically retrieve and examined to extract and display a list of classes in each module. To retrieve the `__init__.py` the *Github* python module is required. To install the github module:\n",
    "\n",
    "`pip install PyGithub`\n",
    "\n",
    "When using the *github* module to access the *ipywidget* files Github imposes a quota on the amount that may be downloaded. Once the quota is exceeded then you need to wait one hour before your quota is restored and you may proceed to download again.\n",
    "\n",
    "## Local copies of ipywidgets files\n",
    "\n",
    "Retrieving the files from Github is mostly an educational exercise in the use of the python Github module. A version of the files being retrieved should already be installed on your computer. For examples, in:\n",
    "\n",
    "`/usr/lib/python3/dist-packages/ipywidgets/widgets/`\n",
    "\n",
    "Or, if you have created a Python 3.7 virtual environment called, say, `venv-py37`; then the latest pip'ed files from PyPI will be in a folder like:\n",
    "\n",
    "`venv-py37/lib/python3.7/site-packages/ipywidgets/widgets/`\n",
    "\n",
    "\n",
    "\n"
   ]
  },
  {
   "cell_type": "code",
   "execution_count": 17,
   "metadata": {
    "scrolled": true
   },
   "outputs": [
    {
     "data": {
      "application/vnd.jupyter.widget-view+json": {
       "model_id": "b77dce94bb014aee88b1c80a402b0638",
       "version_major": 2,
       "version_minor": 0
      },
      "text/plain": [
       "Text(value='Rate Limit: 60, Remaining: 56. If limit is exceeded, not reset until: 22:09 on 14-10-2019', descri…"
      ]
     },
     "metadata": {},
     "output_type": "display_data"
    },
    {
     "data": {
      "application/vnd.jupyter.widget-view+json": {
       "model_id": "eed1677fa2614b53a23360b46fe28be5",
       "version_major": 2,
       "version_minor": 0
      },
      "text/plain": [
       "Textarea(value='Data extracted from Github repository jupyter-widgets/ipywidgets _version.py file: \\nhttps://g…"
      ]
     },
     "metadata": {},
     "output_type": "display_data"
    },
    {
     "data": {
      "application/vnd.jupyter.widget-view+json": {
       "model_id": "a801453c05ee4b7fb2c32973aee1baba",
       "version_major": 2,
       "version_minor": 0
      },
      "text/plain": [
       "Textarea(value=\"# Copyright (c) Jupyter Development Team.\\n# Distributed under the terms of the Modified BSD L…"
      ]
     },
     "metadata": {},
     "output_type": "display_data"
    }
   ],
   "source": [
    "# Github ipywidget version check\n",
    "\n",
    "# Cell 0\n",
    "# Extracted from Github repository jupyter-widgets/ipywidgets \"\n",
    "# the \"_version.py file. So latest version is known.\"\n",
    "#        1         2         3         4         5         6         7         8\n",
    "#2345678901234567890123456789012345678901234567890123456789012345678901234567890\n",
    "\n",
    "import ipywidgets\n",
    "import github\n",
    "import datetime\n",
    "import base64\n",
    "\n",
    "# To install github in your virtual environment: $ pip install PyGithub\n",
    "# base64 is for decoding files retrieved from github\n",
    "# RateLimitExceededException\n",
    "\n",
    "# Display warning text box on Github rate limit\n",
    "g = github.Github()\n",
    "\n",
    "#=== Text Widget\n",
    "text = ipywidgets.Text(\n",
    "    value='',\n",
    "    placeholder='',\n",
    "    description='Github Downloading:',\n",
    "    disabled=False,\n",
    "    style={'description_width': 'initial'},\n",
    "    layout = ipywidgets.Layout(width='90%'),\n",
    ")\n",
    "\n",
    "if g.get_rate_limit().core.remaining == 0:\n",
    "    s = (\"Rate Limit: {}, Remaining: {}. Limit previously exceeded. \" \n",
    "         \"Reset within one hour.\"\n",
    "         .format(g.get_rate_limit().core.limit, \n",
    "                 g.get_rate_limit().core.remaining,))\n",
    "\n",
    "else:\n",
    "    s = (\"Rate Limit: {}, Remaining: {}. If limit is exceeded, not reset until: {}\"\n",
    "       .format(g.get_rate_limit().core.limit, \n",
    "        g.get_rate_limit().core.remaining,\n",
    "        datetime.datetime.fromtimestamp(g.rate_limiting_resettime)\n",
    "               .strftime(\"%H:%M on %d-%m-%Y\")))\n",
    "        # Time formats: \"%Y-%m-%d %H:%M:%S\" \"%H:%M:%S %d-%m-%Y\"                                                                                                                                \n",
    "\n",
    "text.value = s\n",
    "display(text)\n",
    "\n",
    "# Use github module to download _version.py file:\n",
    "REPOSITORY = \"jupyter-widgets/ipywidgets\"\n",
    "INIT_FILE = \"ipywidgets/_version.py\"\n",
    "URL_DIR = \"https://github.com/jupyter-widgets/ipywidgets/blob/master/ipywidgets/_version.py\"\n",
    "\n",
    "MESSAGE = (\"Data extracted from Github repository jupyter-widgets/ipywidgets \"\n",
    "           \"_version.py file: \\n{}\"\n",
    "           .format(URL_DIR))\n",
    "\n",
    "widget_text_area_1 = ipywidgets.Textarea(\n",
    "    value = MESSAGE,\n",
    "    layout = ipywidgets.Layout(width='90%')                            \n",
    "    )\n",
    "display(widget_text_area_1)\n",
    "\n",
    "repo = g.get_repo(REPOSITORY)  \n",
    "contents = repo.get_contents(INIT_FILE)\n",
    "#print(\"contents.size:\", contents.size)\n",
    "\n",
    "# Decode content from base64 to bytes, then decode to a string.\n",
    "# b\"abcde\".decode(\"utf-8\")  # <-- decode to a string\n",
    "decoded_content = base64.b64decode(contents.content).decode(\"utf-8\")\n",
    "\n",
    "widget_text_area_2 = ipywidgets.Textarea(\n",
    "    value = decoded_content,\n",
    "    layout = ipywidgets.Layout(width='90%', height='250px',),                                       \n",
    "    )\n",
    "display(widget_text_area_2)\n"
   ]
  },
  {
   "cell_type": "markdown",
   "metadata": {},
   "source": [
    "# Categories of Widgets\n",
    "\n",
    "The `__init__.py` file is responsible for importing and modules that contain similar widgets. The following code retrieves the `__init__.py` file and extracts the names of the modules tha are imports and the classes in each module.\n"
   ]
  },
  {
   "cell_type": "code",
   "execution_count": 16,
   "metadata": {},
   "outputs": [
    {
     "data": {
      "application/vnd.jupyter.widget-view+json": {
       "model_id": "12e04677a94544668b329c0dccc93f79",
       "version_major": 2,
       "version_minor": 0
      },
      "text/plain": [
       "Text(value='Rate Limit: 60, Remaining: 58. If limit is exceeded, not reset until: 22:09 on 14-10-2019', descri…"
      ]
     },
     "metadata": {},
     "output_type": "display_data"
    },
    {
     "data": {
      "application/vnd.jupyter.widget-view+json": {
       "model_id": "a7b80eebca2d46d8997d97d2d2fe643b",
       "version_major": 2,
       "version_minor": 0
      },
      "text/plain": [
       "Textarea(value='Data extracted from ipywidget Github source code file:\\nhttps://github.com/jupyter-widgets/ipy…"
      ]
     },
     "metadata": {},
     "output_type": "display_data"
    }
   ],
   "source": [
    "# Github ipywidgets categories\n",
    "\n",
    "# Cell 1\n",
    "# Retrieve from Github repository jupyter-widgets/ipywidgets/widgets\n",
    "# the __init__.py file and extract the modules and classes.  \n",
    "#        1         2         3         4         5         6         7         8\n",
    "#2345678901234567890123456789012345678901234567890123456789012345678901234567890\n",
    "\n",
    "import ipywidgets\n",
    "import github\n",
    "import datetime\n",
    "import base64\n",
    "\n",
    "# To install github in your virtual environment: $ pip install PyGithub\n",
    "# base64 is for decoding files retrieved from github\n",
    "# RateLimitExceededException\n",
    "\n",
    "# Display warning text box on Github rate limit\n",
    "g = github.Github()\n",
    "\n",
    "#=== Text Widget\n",
    "text = ipywidgets.Text(\n",
    "    value='',\n",
    "    placeholder='',\n",
    "    description='Github Downloading:',\n",
    "    disabled=False,\n",
    "    style={'description_width': 'initial'},\n",
    "    layout = ipywidgets.Layout(width='90%'),\n",
    ")\n",
    "\n",
    "if g.get_rate_limit().core.remaining == 0:\n",
    "    s = (\"Rate Limit: {}, Remaining: {}. Limit previously exceeded. \" \n",
    "         \"Reset within one hour.\"\n",
    "         .format(g.get_rate_limit().core.limit, \n",
    "                 g.get_rate_limit().core.remaining,))\n",
    "\n",
    "else:\n",
    "    s = (\"Rate Limit: {}, Remaining: {}. If limit is exceeded, not reset until: {}\"\n",
    "       .format(g.get_rate_limit().core.limit, \n",
    "        g.get_rate_limit().core.remaining,\n",
    "        datetime.datetime.fromtimestamp(g.rate_limiting_resettime)\n",
    "               .strftime(\"%H:%M on %d-%m-%Y\")))\n",
    "        # Time formats: \"%Y-%m-%d %H:%M:%S\" \"%H:%M:%S %d-%m-%Y\"                                                                                                                                \n",
    "\n",
    "text.value = s\n",
    "display(text)\n",
    "\n",
    "\n",
    "# Read __init__.py and extract data to dictionary\n",
    "# Message in text area\n",
    "REPOSITORY = \"jupyter-widgets/ipywidgets\"\n",
    "INIT_FILE = \"ipywidgets/widgets/__init__.py\"\n",
    "#DIR = \"ipywidgets/widgets/\"\n",
    "URL_DIR = \"https://github.com/jupyter-widgets/ipywidgets/tree/master/ipywidgets/widgets/\"\n",
    "MESSAGE = (\"Data extracted from ipywidget Github source code file:\\n{}__init__.py\\n\"\n",
    "     \"The category is the name of a python module and the classes in the module \"\n",
    "     \"are predominantly for widgets.\\n\".format(URL_DIR))\n",
    "\n",
    "# Read from repo\n",
    "repo = g.get_repo(REPOSITORY)  \n",
    "contents = repo.get_contents(INIT_FILE)\n",
    "#print(\"contents.size:\", contents.size)\n",
    "\n",
    "# Decode content from base64 to bytes, then decode to a string.\n",
    "# b\"abcde\".decode(\"utf-8\")  # <-- decode to a string\n",
    "decoded_content = base64.b64decode(contents.content).decode(\"utf-8\")\n",
    "\n",
    "# Split the code into lines.\n",
    "content_list = decoded_content.split(\"\\n\")   \n",
    "#print(\"Lines of code:\", len(content_list)) \n",
    "\n",
    "# Build a dictionary of categories and their classes\n",
    "# Example: from .widget_bool import Checkbox, ToggleButton, Valid\n",
    "# Extract widget_bool as key and value is: [Checkbox, ToggleButton, Valid]\n",
    "\n",
    "widget_category_dict = {} \n",
    "category_list = []\n",
    "for line in content_list:\n",
    "    if line.startswith(\"from\"):\n",
    "        line_list = line.split(\" \")\n",
    "        \n",
    "        # Strip the \".\" prefix \n",
    "        if line_list[1].startswith(\".\"):\n",
    "            line_list[1] = line_list[1][1:]\n",
    "        category_list.append(line_list[1])        \n",
    "        #print(category_list)\n",
    "        \n",
    "        # Get the imports\n",
    "        # Find \"import\" index\n",
    "        #print(line_list.index(\"import\"))  # All are 2\n",
    "        # Remove the surplus comma's\n",
    "        #print(line_list[3:])\n",
    "        imported_classes_string = \"\".join(line_list[3:])\n",
    "        #print(imported_classes_string)\n",
    "        imported_classes_list = imported_classes_string.split(\",\")\n",
    "        #print(imported_classes_list)\n",
    "        \n",
    "        # Add key and value list to dictionary\n",
    "        widget_category_dict[line_list[1]] = imported_classes_list\n",
    "        \n",
    "#print(len(category_list))\n",
    "#print(category_list)\n",
    "#print(widget_category_dict)\n",
    "\n",
    "count = 0\n",
    "s = (MESSAGE)\n",
    "\n",
    "for key, value in sorted(widget_category_dict.items()):\n",
    "    value = sorted(value)\n",
    "    count += len(value)\n",
    "    #print(len(value))\n",
    "    #print(count)\n",
    "    value_string = \", \".join(value)\n",
    "    #print(\"\\n{}:\\n\\t{}\".format(key, value_string))\n",
    "    s += \"\\n\\n{}:\\n\\t{}\".format(key, value_string)\n",
    "\n",
    "s += \"\\n\\nTotal widget classes: {}\".format(count)\n",
    "\n",
    "widget_text_area = ipywidgets.Textarea(\n",
    "    value = s,\n",
    "    layout = ipywidgets.Layout(width='90%', height='250px',),                                       \n",
    "    )\n",
    "display(widget_text_area)"
   ]
  }
 ],
 "metadata": {
  "kernelspec": {
   "display_name": "Python 3",
   "language": "python",
   "name": "python3"
  },
  "language_info": {
   "codemirror_mode": {
    "name": "ipython",
    "version": 3
   },
   "file_extension": ".py",
   "mimetype": "text/x-python",
   "name": "python",
   "nbconvert_exporter": "python",
   "pygments_lexer": "ipython3",
   "version": "3.7.3"
  }
 },
 "nbformat": 4,
 "nbformat_minor": 2
}
